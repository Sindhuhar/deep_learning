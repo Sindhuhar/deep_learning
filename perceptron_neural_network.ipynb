{
  "nbformat": 4,
  "nbformat_minor": 0,
  "metadata": {
    "colab": {
      "provenance": [],
      "authorship_tag": "ABX9TyM27OOKVh5Jf60snxUB7Vbl",
      "include_colab_link": true
    },
    "kernelspec": {
      "name": "python3",
      "display_name": "Python 3"
    },
    "language_info": {
      "name": "python"
    },
    "accelerator": "TPU"
  },
  "cells": [
    {
      "cell_type": "markdown",
      "metadata": {
        "id": "view-in-github",
        "colab_type": "text"
      },
      "source": [
        "<a href=\"https://colab.research.google.com/github/Sindhuhar/deep_learning/blob/main/perceptron_neural_network.ipynb\" target=\"_parent\"><img src=\"https://colab.research.google.com/assets/colab-badge.svg\" alt=\"Open In Colab\"/></a>"
      ]
    },
    {
      "cell_type": "markdown",
      "source": [
        "# Implementing the Perceptron Neural Network with Python\n"
      ],
      "metadata": {
        "id": "kWFKrj8khlmb"
      }
    },
    {
      "cell_type": "code",
      "source": [
        "# import the necessary packages\n",
        "import numpy as np"
      ],
      "metadata": {
        "id": "e0T5flsvhtiA"
      },
      "execution_count": 1,
      "outputs": []
    },
    {
      "cell_type": "markdown",
      "source": [
        "### Implementing the Perceptron in Python"
      ],
      "metadata": {
        "id": "d2zd7Oy1h0cC"
      }
    },
    {
      "cell_type": "code",
      "source": [
        "class Perceptron:\n",
        "\tdef __init__(self, N, alpha=0.1):\n",
        "\t\t# initialize the weight matrix and store the learning rate\n",
        "\t\tself.W = np.random.randn(N + 1) / np.sqrt(N)\n",
        "\t\tself.alpha = alpha\n",
        "\n",
        "\tdef step(self, x):\n",
        "\t\t# apply the step function\n",
        "\t\treturn 1 if x > 0 else 0\n",
        "\n",
        "\tdef fit(self, X, y, epochs=10):\n",
        "\t\t# insert a column of 1's as the last entry in the feature\n",
        "\t\t# matrix -- this little trick allows us to treat the bias\n",
        "\t\t# as a trainable parameter within the weight matrix\n",
        "\t\tX = np.c_[X, np.ones((X.shape[0]))]\n",
        "\n",
        "\t\t# loop over the desired number of epochs\n",
        "\t\tfor epoch in np.arange(0, epochs):\n",
        "\t\t\t# loop over each individual data point\n",
        "\t\t\tfor (x, target) in zip(X, y):\n",
        "\t\t\t\t# take the dot product between the input features\n",
        "\t\t\t\t# and the weight matrix, then pass this value\n",
        "\t\t\t\t# through the step function to obtain the prediction\n",
        "\t\t\t\tp = self.step(np.dot(x, self.W))\n",
        "\n",
        "\t\t\t\t# only perform a weight update if our prediction\n",
        "\t\t\t\t# does not match the target\n",
        "\t\t\t\tif p != target:\n",
        "\t\t\t\t\t# determine the error\n",
        "\t\t\t\t\terror = p - target\n",
        "\n",
        "\t\t\t\t\t# update the weight matrix\n",
        "\t\t\t\t\tself.W += -self.alpha * error * x\n",
        "\n",
        "\tdef predict(self, X, addBias=True):\n",
        "\t\t# ensure our input is a matrix\n",
        "\t\tX = np.atleast_2d(X)\n",
        "\n",
        "\t\t# check to see if the bias column should be added\n",
        "\t\tif addBias:\n",
        "\t\t\t# insert a column of 1's as the last entry in the feature\n",
        "\t\t\t# matrix (bias)\n",
        "\t\t\tX = np.c_[X, np.ones((X.shape[0]))]\n",
        "\n",
        "\t\t# take the dot product between the input features and the\n",
        "\t\t# weight matrix, then pass the value through the step\n",
        "\t\t# function\n",
        "\t\treturn self.step(np.dot(X, self.W))"
      ],
      "metadata": {
        "id": "ssym45triOW3"
      },
      "execution_count": 2,
      "outputs": []
    },
    {
      "cell_type": "markdown",
      "source": [
        "### Evaluating the Perceptron on Bitwise Datasets"
      ],
      "metadata": {
        "id": "pPoxmVDDiSSp"
      }
    },
    {
      "cell_type": "code",
      "source": [
        "# construct the OR dataset\n",
        "X = np.array([[0, 0], [0, 1], [1, 0], [1, 1]])\n",
        "y = np.array([[0], [1], [1], [1]])\n",
        "\n",
        "# define our perceptron and train it\n",
        "print(\"[INFO] training perceptron...\")\n",
        "p = Perceptron(X.shape[1], alpha=0.1)\n",
        "p.fit(X, y, epochs=20)"
      ],
      "metadata": {
        "colab": {
          "base_uri": "https://localhost:8080/"
        },
        "id": "VO9gUQXeiYvq",
        "outputId": "76a5ae02-65d3-4dc0-b062-3fc0d4d394e1"
      },
      "execution_count": 3,
      "outputs": [
        {
          "output_type": "stream",
          "name": "stdout",
          "text": [
            "[INFO] training perceptron...\n"
          ]
        }
      ]
    },
    {
      "cell_type": "code",
      "source": [
        "# now that our perceptron is trained we can evaluate it\n",
        "print(\"[INFO] testing perceptron...\")\n",
        "\n",
        "# now that our network is trained, loop over the data points\n",
        "for (x, target) in zip(X, y):\n",
        "\t# make a prediction on the data point and display the result\n",
        "\t# to our console\n",
        "\tpred = p.predict(x)\n",
        "\tprint(\"[INFO] data={}, ground-truth={}, pred={}\".format(\n",
        "\t\tx, target[0], pred))"
      ],
      "metadata": {
        "colab": {
          "base_uri": "https://localhost:8080/"
        },
        "id": "BpHFCjf5ij9W",
        "outputId": "f489d882-f322-407b-fc52-05b6b389067c"
      },
      "execution_count": 4,
      "outputs": [
        {
          "output_type": "stream",
          "name": "stdout",
          "text": [
            "[INFO] testing perceptron...\n",
            "[INFO] data=[0 0], ground-truth=0, pred=0\n",
            "[INFO] data=[0 1], ground-truth=1, pred=1\n",
            "[INFO] data=[1 0], ground-truth=1, pred=1\n",
            "[INFO] data=[1 1], ground-truth=1, pred=1\n"
          ]
        }
      ]
    },
    {
      "cell_type": "code",
      "source": [
        "# construct the AND dataset\n",
        "X = np.array([[0, 0], [0, 1], [1, 0], [1, 1]])\n",
        "y = np.array([[0], [0], [0], [1]])\n",
        "\n",
        "# define our perceptron and train it\n",
        "print(\"[INFO] training perceptron...\")\n",
        "p = Perceptron(X.shape[1], alpha=0.1)\n",
        "p.fit(X, y, epochs=20)\n",
        "\n",
        "# now that our perceptron is trained we can evaluate it\n",
        "print(\"[INFO] testing perceptron...\")\n",
        "\n",
        "# now that our network is trained, loop over the data points\n",
        "for (x, target) in zip(X, y):\n",
        "\t# make a prediction on the data point and display the result\n",
        "\t# to our console\n",
        "\tpred = p.predict(x)\n",
        "\tprint(\"[INFO] data={}, ground-truth={}, pred={}\".format(\n",
        "\t\tx, target[0], pred))"
      ],
      "metadata": {
        "colab": {
          "base_uri": "https://localhost:8080/"
        },
        "id": "ikIGiROEi0UI",
        "outputId": "bb8ae22a-8bb9-4bb6-ec43-c23629c97037"
      },
      "execution_count": 5,
      "outputs": [
        {
          "output_type": "stream",
          "name": "stdout",
          "text": [
            "[INFO] training perceptron...\n",
            "[INFO] testing perceptron...\n",
            "[INFO] data=[0 0], ground-truth=0, pred=0\n",
            "[INFO] data=[0 1], ground-truth=0, pred=0\n",
            "[INFO] data=[1 0], ground-truth=0, pred=0\n",
            "[INFO] data=[1 1], ground-truth=1, pred=1\n"
          ]
        }
      ]
    },
    {
      "cell_type": "code",
      "source": [
        "# construct the XOR dataset\n",
        "X = np.array([[0, 0], [0, 1], [1, 0], [1, 1]])\n",
        "y = np.array([[0], [1], [1], [0]])\n",
        "\n",
        "# define our perceptron and train it\n",
        "print(\"[INFO] training perceptron...\")\n",
        "p = Perceptron(X.shape[1], alpha=0.1)\n",
        "p.fit(X, y, epochs=20)\n",
        "\n",
        "# now that our perceptron is trained we can evaluate it\n",
        "print(\"[INFO] testing perceptron...\")\n",
        "\n",
        "# now that our network is trained, loop over the data points\n",
        "for (x, target) in zip(X, y):\n",
        "\t# make a prediction on the data point and display the result\n",
        "\t# to our console\n",
        "\tpred = p.predict(x)\n",
        "\tprint(\"[INFO] data={}, ground-truth={}, pred={}\".format(\n",
        "\t\tx, target[0], pred))"
      ],
      "metadata": {
        "colab": {
          "base_uri": "https://localhost:8080/"
        },
        "id": "_g3vA3WGi7hC",
        "outputId": "58afd349-7d87-41b8-ad70-6dd6d8856452"
      },
      "execution_count": 6,
      "outputs": [
        {
          "output_type": "stream",
          "name": "stdout",
          "text": [
            "[INFO] training perceptron...\n",
            "[INFO] testing perceptron...\n",
            "[INFO] data=[0 0], ground-truth=0, pred=1\n",
            "[INFO] data=[0 1], ground-truth=1, pred=1\n",
            "[INFO] data=[1 0], ground-truth=1, pred=0\n",
            "[INFO] data=[1 1], ground-truth=0, pred=0\n"
          ]
        }
      ]
    }
  ]
}